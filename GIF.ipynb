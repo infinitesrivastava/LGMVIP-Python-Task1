{
 "cells": [
  {
   "cell_type": "code",
   "execution_count": null,
   "id": "19bbad05-7fa0-418d-aeb3-3fd98dc495e8",
   "metadata": {},
   "outputs": [],
   "source": [
    "from moviepy.editor import VideoFileClip\n",
    "video= VideoFileClip(\" \")\n",
    "fps=3\n",
    "video.write_gif(\"GIF.gif\", fps=fps)"
   ]
  }
 ],
 "metadata": {
  "kernelspec": {
   "display_name": "Python 3 (ipykernel)",
   "language": "python",
   "name": "python3"
  },
  "language_info": {
   "codemirror_mode": {
    "name": "ipython",
    "version": 3
   },
   "file_extension": ".py",
   "mimetype": "text/x-python",
   "name": "python",
   "nbconvert_exporter": "python",
   "pygments_lexer": "ipython3",
   "version": "3.12.2"
  }
 },
 "nbformat": 4,
 "nbformat_minor": 5
}
